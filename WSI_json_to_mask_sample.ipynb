{
 "cells": [
  {
   "cell_type": "markdown",
   "metadata": {},
   "source": [
    "# WSI_json_to_mask sample code\n",
    "\n",
    "#### simple"
   ]
  },
  {
   "cell_type": "code",
   "execution_count": null,
   "metadata": {},
   "outputs": [],
   "source": [
    "from tqdm import tqdm\n",
    "import numpy as np\n",
    "import openslide\n",
    "import cv2\n",
    "\n",
    "\n",
    "#### colon, pancreas => only type 1\n",
    "\n",
    "svs_path = './WSI/WSI_input/test_col_20/Col_PNI2021chall_test_0020.svs'\n",
    "json_path = './WSI/WSI_output/Col_PNI2021chall_test_0020/nuclei_dict.json'\n",
    "\n",
    "radius = 25\n",
    "    \n",
    "WSI_img = openslide.OpenSlide(svs_path)\n",
    "dims_level_0 = WSI_img.level_dimensions[0]\n",
    "mask_h = WSI_img.level_dimensions[0][1]\n",
    "mask_w = WSI_img.level_dimensions[0][0]\n",
    "mask = np.zeros((mask_h, mask_w))\n",
    "\n",
    "with open(json_path, 'r') as f:\n",
    "    line = f.readline()\n",
    "    num = line.count('centroid')\n",
    "    sample = line.split(': {\"centroid\": ')\n",
    "    for i in tqdm(range(num+1)):\n",
    "        if (sample[i].rfind('\"type\": 1') != -1):\n",
    "            cell = [int(sample[i].split(',')[0][1:]), int(sample[i].split(',')[1][1:-1])]\n",
    "            cv2.circle(mask, (cell[0], cell[1]), radius, 1, cv2.FILLED)\n",
    "        else:\n",
    "            pass\n",
    "    cv2.imwrite('./WSI_mask/' + svs_path.split('/')[-1][:-4] + '.png', mask)\n",
    "\n",
    "    \n",
    "#### prostate => type 1, 4, 5   \n",
    "    \n",
    "svs_path = './WSI/WSI_input/test_col_20/Col_PNI2021chall_test_0020.svs'\n",
    "json_path = './WSI/WSI_output/Col_PNI2021chall_test_0020/nuclei_dict.json'\n",
    "\n",
    "radius = 25\n",
    "    \n",
    "WSI_img = openslide.OpenSlide(svs_path)\n",
    "dims_level_0 = WSI_img.level_dimensions[0]\n",
    "mask_h = WSI_img.level_dimensions[0][1]\n",
    "mask_w = WSI_img.level_dimensions[0][0]\n",
    "mask = np.zeros((mask_h, mask_w))\n",
    "\n",
    "with open(json_path, 'r') as f:\n",
    "    line = f.readline()\n",
    "    num = line.count('centroid')\n",
    "    sample = line.split(': {\"centroid\": ')\n",
    "    for i in tqdm(range(num+1)):\n",
    "        if (sample[i].rfind('\"type\": 1') != -1) or (sample[i].rfind('\"type\": 4') != -1) or (sample[i].rfind('\"type\": 5') != -1):\n",
    "            cell = [int(sample[i].split(',')[0][1:]), int(sample[i].split(',')[1][1:-1])]\n",
    "            cv2.circle(mask, (cell[0], cell[1]), radius, 1, cv2.FILLED)\n",
    "        else:\n",
    "            pass\n",
    "    cv2.imwrite('./WSI_mask/' + svs_path.split('/')[-1][:-4] + '.png', mask)"
   ]
  },
  {
   "cell_type": "markdown",
   "metadata": {},
   "source": [
    "#### function"
   ]
  },
  {
   "cell_type": "code",
   "execution_count": null,
   "metadata": {},
   "outputs": [],
   "source": [
    "from tqdm import tqdm\n",
    "import numpy as np\n",
    "import openslide\n",
    "import cv2\n",
    "\n",
    "def json2mask(svs_path, radius, pros=False):\n",
    "    json_path = './WSI/WSI_output/' + svs_path.split('/')[-1][:-4] + '/nuclei_dict.json'\n",
    "    WSI_img = openslide.OpenSlide(svs_path)\n",
    "    dims_level_0 = WSI_img.level_dimensions[0]\n",
    "    mask_h = WSI_img.level_dimensions[0][1]\n",
    "    mask_w = WSI_img.level_dimensions[0][0]\n",
    "    mask = np.zeros((mask_h, mask_w))\n",
    "\n",
    "    with open(json_path, 'r') as f:\n",
    "        line = f.readline()\n",
    "        num = line.count('centroid')\n",
    "        sample = line.split(': {\"centroid\": ')\n",
    "        if pros == False:\n",
    "            for i in tqdm(range(num+1)):\n",
    "                if (sample[i].rfind('\"type\": 1') != -1):\n",
    "                    cell = [int(sample[i].split(',')[0][1:]), int(sample[i].split(',')[1][1:-1])]\n",
    "                    cv2.circle(mask, (cell[0], cell[1]), radius, 1, cv2.FILLED)\n",
    "                else:\n",
    "                    pass\n",
    "        elif pros == True:\n",
    "            for i in tqdm(range(num+1)):\n",
    "                if (sample[i].rfind('\"type\": 1') != -1) or (sample[i].rfind('\"type\": 4') != -1) or (sample[i].rfind('\"type\": 5') != -1):\n",
    "                    cell = [int(sample[i].split(',')[0][1:]), int(sample[i].split(',')[1][1:-1])]\n",
    "                    cv2.circle(mask, (cell[0], cell[1]), radius, 1, cv2.FILLED)\n",
    "                else:\n",
    "                    pass            \n",
    "        cv2.imwrite('./WSI_mask/' + svs_path.split('/')[-1][:-4] + '.png', mask)\n"
   ]
  },
  {
   "cell_type": "markdown",
   "metadata": {},
   "source": [
    "#### module => json2mask.py"
   ]
  },
  {
   "cell_type": "code",
   "execution_count": null,
   "metadata": {},
   "outputs": [],
   "source": []
  }
 ],
 "metadata": {
  "kernelspec": {
   "display_name": "Python 3",
   "language": "python",
   "name": "python3"
  },
  "language_info": {
   "codemirror_mode": {
    "name": "ipython",
    "version": 3
   },
   "file_extension": ".py",
   "mimetype": "text/x-python",
   "name": "python",
   "nbconvert_exporter": "python",
   "pygments_lexer": "ipython3",
   "version": "3.6.8"
  },
  "varInspector": {
   "cols": {
    "lenName": 16,
    "lenType": 16,
    "lenVar": 40
   },
   "kernels_config": {
    "python": {
     "delete_cmd_postfix": "",
     "delete_cmd_prefix": "del ",
     "library": "var_list.py",
     "varRefreshCmd": "print(var_dic_list())"
    },
    "r": {
     "delete_cmd_postfix": ") ",
     "delete_cmd_prefix": "rm(",
     "library": "var_list.r",
     "varRefreshCmd": "cat(var_dic_list()) "
    }
   },
   "types_to_exclude": [
    "module",
    "function",
    "builtin_function_or_method",
    "instance",
    "_Feature"
   ],
   "window_display": false
  }
 },
 "nbformat": 4,
 "nbformat_minor": 2
}
